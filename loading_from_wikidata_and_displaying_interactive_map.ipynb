{
  "nbformat": 4,
  "nbformat_minor": 0,
  "metadata": {
    "colab": {
      "name": "loading-from-wikidata-and-displaying-interactive-map.ipynb",
      "provenance": [],
      "collapsed_sections": [],
      "authorship_tag": "ABX9TyM2jh5yoykfxMD5yoHxN6D0",
      "include_colab_link": true
    },
    "kernelspec": {
      "name": "python3",
      "display_name": "Python 3"
    },
    "language_info": {
      "name": "python"
    }
  },
  "cells": [
    {
      "cell_type": "markdown",
      "metadata": {
        "id": "view-in-github",
        "colab_type": "text"
      },
      "source": [
        "<a href=\"https://colab.research.google.com/github/tzelleke/data-science-tutorial-notebooks/blob/master/loading_from_wikidata_and_displaying_interactive_map.ipynb\" target=\"_parent\"><img src=\"https://colab.research.google.com/assets/colab-badge.svg\" alt=\"Open In Colab\"/></a>"
      ]
    },
    {
      "cell_type": "markdown",
      "metadata": {
        "id": "sJzQpo0sCyNB"
      },
      "source": [
        "# Loading data from WikiData and displaying it on an interactive map"
      ]
    },
    {
      "cell_type": "code",
      "metadata": {
        "id": "LzvMrE8n3xGT"
      },
      "source": [
        "pip install sparqlwrapper"
      ],
      "execution_count": null,
      "outputs": []
    },
    {
      "cell_type": "code",
      "metadata": {
        "id": "AEAXGSx2vcS0"
      },
      "source": [
        "import pandas as pd\n",
        "from SPARQLWrapper import SPARQLWrapper, JSON\n",
        "\n",
        "sparql = SPARQLWrapper(\"https://query.wikidata.org/sparql\")\n",
        "sparql.setReturnFormat(JSON)"
      ],
      "execution_count": 2,
      "outputs": []
    },
    {
      "cell_type": "code",
      "metadata": {
        "id": "TiXzCv-m6Zy4"
      },
      "source": [
        "def q(query):\n",
        "    sparql.setQuery(query)\n",
        "    results = sparql.query().convert()\n",
        "    return pd.json_normalize(results['results']['bindings'])"
      ],
      "execution_count": 3,
      "outputs": []
    },
    {
      "cell_type": "code",
      "metadata": {
        "id": "tl5JwO1Y2EAa"
      },
      "source": [
        "df = q(\"\"\"\n",
        "SELECT\n",
        "?university ?universityLabel ?coord ?lat ?lon\n",
        "WHERE {\n",
        "  ?university wdt:P31 wd:Q875538;\n",
        "              wdt:P17 wd:Q183.\n",
        "  ?university wdt:P625 ?coord.\n",
        "  ?university p:P625 ?coordinate.\n",
        "  ?coordinate psv:P625 ?coordinate_node.\n",
        "  ?coordinate_node wikibase:geoLatitude ?lat;\n",
        "                   wikibase:geoLongitude ?lon.\n",
        "  SERVICE wikibase:label { bd:serviceParam wikibase:language \"de\". }\n",
        "}\n",
        "\"\"\")"
      ],
      "execution_count": 4,
      "outputs": []
    },
    {
      "cell_type": "code",
      "metadata": {
        "colab": {
          "base_uri": "https://localhost:8080/",
          "height": 309
        },
        "id": "XS0NRPxy7GKa",
        "outputId": "0b53c046-10e0-4b92-bcd7-a1b889276eb7"
      },
      "source": [
        "df.sample(5)"
      ],
      "execution_count": 5,
      "outputs": [
        {
          "output_type": "execute_result",
          "data": {
            "text/html": [
              "<div>\n",
              "<style scoped>\n",
              "    .dataframe tbody tr th:only-of-type {\n",
              "        vertical-align: middle;\n",
              "    }\n",
              "\n",
              "    .dataframe tbody tr th {\n",
              "        vertical-align: top;\n",
              "    }\n",
              "\n",
              "    .dataframe thead th {\n",
              "        text-align: right;\n",
              "    }\n",
              "</style>\n",
              "<table border=\"1\" class=\"dataframe\">\n",
              "  <thead>\n",
              "    <tr style=\"text-align: right;\">\n",
              "      <th></th>\n",
              "      <th>university.type</th>\n",
              "      <th>university.value</th>\n",
              "      <th>coord.datatype</th>\n",
              "      <th>coord.type</th>\n",
              "      <th>coord.value</th>\n",
              "      <th>universityLabel.xml:lang</th>\n",
              "      <th>universityLabel.type</th>\n",
              "      <th>universityLabel.value</th>\n",
              "      <th>lat.datatype</th>\n",
              "      <th>lat.type</th>\n",
              "      <th>lat.value</th>\n",
              "      <th>lon.datatype</th>\n",
              "      <th>lon.type</th>\n",
              "      <th>lon.value</th>\n",
              "    </tr>\n",
              "  </thead>\n",
              "  <tbody>\n",
              "    <tr>\n",
              "      <th>14</th>\n",
              "      <td>uri</td>\n",
              "      <td>http://www.wikidata.org/entity/Q1622101</td>\n",
              "      <td>http://www.opengis.net/ont/geosparql#wktLiteral</td>\n",
              "      <td>literal</td>\n",
              "      <td>Point(9.31103 48.7381)</td>\n",
              "      <td>de</td>\n",
              "      <td>literal</td>\n",
              "      <td>Hochschule Esslingen</td>\n",
              "      <td>http://www.w3.org/2001/XMLSchema#double</td>\n",
              "      <td>literal</td>\n",
              "      <td>48.7381</td>\n",
              "      <td>http://www.w3.org/2001/XMLSchema#double</td>\n",
              "      <td>literal</td>\n",
              "      <td>9.31103</td>\n",
              "    </tr>\n",
              "    <tr>\n",
              "      <th>228</th>\n",
              "      <td>uri</td>\n",
              "      <td>http://www.wikidata.org/entity/Q248702</td>\n",
              "      <td>http://www.opengis.net/ont/geosparql#wktLiteral</td>\n",
              "      <td>literal</td>\n",
              "      <td>Point(9.793727 48.793244)</td>\n",
              "      <td>de</td>\n",
              "      <td>literal</td>\n",
              "      <td>Hochschule für Gestaltung Schwäbisch Gmünd</td>\n",
              "      <td>http://www.w3.org/2001/XMLSchema#double</td>\n",
              "      <td>literal</td>\n",
              "      <td>48.793244</td>\n",
              "      <td>http://www.w3.org/2001/XMLSchema#double</td>\n",
              "      <td>literal</td>\n",
              "      <td>9.793727</td>\n",
              "    </tr>\n",
              "    <tr>\n",
              "      <th>109</th>\n",
              "      <td>uri</td>\n",
              "      <td>http://www.wikidata.org/entity/Q1622242</td>\n",
              "      <td>http://www.opengis.net/ont/geosparql#wktLiteral</td>\n",
              "      <td>literal</td>\n",
              "      <td>Point(8.79609 53.08438)</td>\n",
              "      <td>de</td>\n",
              "      <td>literal</td>\n",
              "      <td>Hochschule für Öffentliche Verwaltung Bremen</td>\n",
              "      <td>http://www.w3.org/2001/XMLSchema#double</td>\n",
              "      <td>literal</td>\n",
              "      <td>53.08438</td>\n",
              "      <td>http://www.w3.org/2001/XMLSchema#double</td>\n",
              "      <td>literal</td>\n",
              "      <td>8.79609</td>\n",
              "    </tr>\n",
              "    <tr>\n",
              "      <th>20</th>\n",
              "      <td>uri</td>\n",
              "      <td>http://www.wikidata.org/entity/Q1622141</td>\n",
              "      <td>http://www.opengis.net/ont/geosparql#wktLiteral</td>\n",
              "      <td>literal</td>\n",
              "      <td>Point(6.869899 51.449591)</td>\n",
              "      <td>de</td>\n",
              "      <td>literal</td>\n",
              "      <td>Hochschule Ruhr West</td>\n",
              "      <td>http://www.w3.org/2001/XMLSchema#double</td>\n",
              "      <td>literal</td>\n",
              "      <td>51.449591</td>\n",
              "      <td>http://www.w3.org/2001/XMLSchema#double</td>\n",
              "      <td>literal</td>\n",
              "      <td>6.869899</td>\n",
              "    </tr>\n",
              "    <tr>\n",
              "      <th>182</th>\n",
              "      <td>uri</td>\n",
              "      <td>http://www.wikidata.org/entity/Q812648</td>\n",
              "      <td>http://www.opengis.net/ont/geosparql#wktLiteral</td>\n",
              "      <td>literal</td>\n",
              "      <td>Point(8.692486 50.130333)</td>\n",
              "      <td>de</td>\n",
              "      <td>literal</td>\n",
              "      <td>Frankfurt University of Applied Sciences</td>\n",
              "      <td>http://www.w3.org/2001/XMLSchema#double</td>\n",
              "      <td>literal</td>\n",
              "      <td>50.130333</td>\n",
              "      <td>http://www.w3.org/2001/XMLSchema#double</td>\n",
              "      <td>literal</td>\n",
              "      <td>8.692486</td>\n",
              "    </tr>\n",
              "  </tbody>\n",
              "</table>\n",
              "</div>"
            ],
            "text/plain": [
              "    university.type                         university.value  ... lon.type lon.value\n",
              "14              uri  http://www.wikidata.org/entity/Q1622101  ...  literal   9.31103\n",
              "228             uri   http://www.wikidata.org/entity/Q248702  ...  literal  9.793727\n",
              "109             uri  http://www.wikidata.org/entity/Q1622242  ...  literal   8.79609\n",
              "20              uri  http://www.wikidata.org/entity/Q1622141  ...  literal  6.869899\n",
              "182             uri   http://www.wikidata.org/entity/Q812648  ...  literal  8.692486\n",
              "\n",
              "[5 rows x 14 columns]"
            ]
          },
          "metadata": {
            "tags": []
          },
          "execution_count": 5
        }
      ]
    },
    {
      "cell_type": "code",
      "metadata": {
        "id": "aeTqNl-583Sn"
      },
      "source": [
        "pip install geopandas"
      ],
      "execution_count": null,
      "outputs": []
    },
    {
      "cell_type": "code",
      "metadata": {
        "id": "bOH2_O438Qvr"
      },
      "source": [
        "import io\n",
        "import zipfile\n",
        "import requests"
      ],
      "execution_count": 7,
      "outputs": []
    },
    {
      "cell_type": "code",
      "metadata": {
        "id": "zHVPiohgtpB2"
      },
      "source": [
        "r = requests.get(\"https://biogeo.ucdavis.edu/data/diva/adm/DEU_adm.zip\")\n",
        "z = zipfile.ZipFile(io.BytesIO(r.content))\n",
        "z.extractall()"
      ],
      "execution_count": 8,
      "outputs": []
    },
    {
      "cell_type": "code",
      "metadata": {
        "colab": {
          "base_uri": "https://localhost:8080/"
        },
        "id": "x43oaqYan2qG",
        "outputId": "df775596-4b85-410e-caf1-ac9945ea11bf"
      },
      "source": [
        "[i.filename for i in z.infolist()]"
      ],
      "execution_count": 9,
      "outputs": [
        {
          "output_type": "execute_result",
          "data": {
            "text/plain": [
              "['DEU_adm0.cpg',\n",
              " 'DEU_adm0.csv',\n",
              " 'DEU_adm0.dbf',\n",
              " 'DEU_adm0.prj',\n",
              " 'DEU_adm0.shp',\n",
              " 'DEU_adm0.shx',\n",
              " 'DEU_adm1.cpg',\n",
              " 'DEU_adm1.csv',\n",
              " 'DEU_adm1.dbf',\n",
              " 'DEU_adm1.prj',\n",
              " 'DEU_adm1.shp',\n",
              " 'DEU_adm1.shx',\n",
              " 'DEU_adm2.cpg',\n",
              " 'DEU_adm2.csv',\n",
              " 'DEU_adm2.dbf',\n",
              " 'DEU_adm2.prj',\n",
              " 'DEU_adm2.shp',\n",
              " 'DEU_adm2.shx',\n",
              " 'DEU_adm3.cpg',\n",
              " 'DEU_adm3.csv',\n",
              " 'DEU_adm3.dbf',\n",
              " 'DEU_adm3.prj',\n",
              " 'DEU_adm3.shp',\n",
              " 'DEU_adm3.shx',\n",
              " 'license.txt']"
            ]
          },
          "metadata": {
            "tags": []
          },
          "execution_count": 9
        }
      ]
    },
    {
      "cell_type": "code",
      "metadata": {
        "colab": {
          "base_uri": "https://localhost:8080/",
          "height": 35
        },
        "id": "TXchqIYxtUmC",
        "outputId": "52178959-e90b-4f40-d89d-55efddfb4275"
      },
      "source": [
        "z.extract(z.getinfo('DEU_adm0.shp'))"
      ],
      "execution_count": 10,
      "outputs": [
        {
          "output_type": "execute_result",
          "data": {
            "application/vnd.google.colaboratory.intrinsic+json": {
              "type": "string"
            },
            "text/plain": [
              "'/content/DEU_adm0.shp'"
            ]
          },
          "metadata": {
            "tags": []
          },
          "execution_count": 10
        }
      ]
    },
    {
      "cell_type": "code",
      "metadata": {
        "id": "sDMuNSYCttLK"
      },
      "source": [
        "import geopandas as gpd\n",
        "import matplotlib.pyplot as plt"
      ],
      "execution_count": 11,
      "outputs": []
    },
    {
      "cell_type": "code",
      "metadata": {
        "colab": {
          "base_uri": "https://localhost:8080/",
          "height": 282
        },
        "id": "ceQyOtk_h43f",
        "outputId": "dd3ece06-82ca-46f2-d737-3f6a689454b5"
      },
      "source": [
        "gdf = gpd.read_file('DEU_adm1.shp')\n",
        "gdf.plot(color='white', edgecolor='black')"
      ],
      "execution_count": 12,
      "outputs": [
        {
          "output_type": "execute_result",
          "data": {
            "text/plain": [
              "<matplotlib.axes._subplots.AxesSubplot at 0x7efe93bbfe10>"
            ]
          },
          "metadata": {
            "tags": []
          },
          "execution_count": 12
        },
        {
          "output_type": "display_data",
          "data": {
            "image/png": "[encoded data removed]",
            "text/plain": [
              "<Figure size 432x288 with 1 Axes>"
            ]
          },
          "metadata": {
            "tags": [],
            "needs_background": "light"
          }
        }
      ]
    },
    {
      "cell_type": "code",
      "metadata": {
        "id": "WeYReErusDFW"
      },
      "source": [
        "pip install folium"
      ],
      "execution_count": null,
      "outputs": []
    },
    {
      "cell_type": "code",
      "metadata": {
        "id": "KIJZFjHX5BzT"
      },
      "source": [
        "import folium"
      ],
      "execution_count": 16,
      "outputs": []
    },
    {
      "cell_type": "code",
      "metadata": {
        "colab": {
          "base_uri": "https://localhost:8080/",
          "height": 204
        },
        "id": "NhCdI9CKsFTF",
        "outputId": "c91c7adc-8346-4332-cd47-e0e45759a98d"
      },
      "source": [
        "path = gpd.datasets.get_path('nybb')\n",
        "df = gpd.read_file(path)\n",
        "df.head()"
      ],
      "execution_count": 14,
      "outputs": [
        {
          "output_type": "execute_result",
          "data": {
            "text/html": [
              "<div>\n",
              "<style scoped>\n",
              "    .dataframe tbody tr th:only-of-type {\n",
              "        vertical-align: middle;\n",
              "    }\n",
              "\n",
              "    .dataframe tbody tr th {\n",
              "        vertical-align: top;\n",
              "    }\n",
              "\n",
              "    .dataframe thead th {\n",
              "        text-align: right;\n",
              "    }\n",
              "</style>\n",
              "<table border=\"1\" class=\"dataframe\">\n",
              "  <thead>\n",
              "    <tr style=\"text-align: right;\">\n",
              "      <th></th>\n",
              "      <th>BoroCode</th>\n",
              "      <th>BoroName</th>\n",
              "      <th>Shape_Leng</th>\n",
              "      <th>Shape_Area</th>\n",
              "      <th>geometry</th>\n",
              "    </tr>\n",
              "  </thead>\n",
              "  <tbody>\n",
              "    <tr>\n",
              "      <th>0</th>\n",
              "      <td>5</td>\n",
              "      <td>Staten Island</td>\n",
              "      <td>330470.010332</td>\n",
              "      <td>1.623820e+09</td>\n",
              "      <td>MULTIPOLYGON (((970217.022 145643.332, 970227....</td>\n",
              "    </tr>\n",
              "    <tr>\n",
              "      <th>1</th>\n",
              "      <td>4</td>\n",
              "      <td>Queens</td>\n",
              "      <td>896344.047763</td>\n",
              "      <td>3.045213e+09</td>\n",
              "      <td>MULTIPOLYGON (((1029606.077 156073.814, 102957...</td>\n",
              "    </tr>\n",
              "    <tr>\n",
              "      <th>2</th>\n",
              "      <td>3</td>\n",
              "      <td>Brooklyn</td>\n",
              "      <td>741080.523166</td>\n",
              "      <td>1.937479e+09</td>\n",
              "      <td>MULTIPOLYGON (((1021176.479 151374.797, 102100...</td>\n",
              "    </tr>\n",
              "    <tr>\n",
              "      <th>3</th>\n",
              "      <td>1</td>\n",
              "      <td>Manhattan</td>\n",
              "      <td>359299.096471</td>\n",
              "      <td>6.364715e+08</td>\n",
              "      <td>MULTIPOLYGON (((981219.056 188655.316, 980940....</td>\n",
              "    </tr>\n",
              "    <tr>\n",
              "      <th>4</th>\n",
              "      <td>2</td>\n",
              "      <td>Bronx</td>\n",
              "      <td>464392.991824</td>\n",
              "      <td>1.186925e+09</td>\n",
              "      <td>MULTIPOLYGON (((1012821.806 229228.265, 101278...</td>\n",
              "    </tr>\n",
              "  </tbody>\n",
              "</table>\n",
              "</div>"
            ],
            "text/plain": [
              "   BoroCode  ...                                           geometry\n",
              "0         5  ...  MULTIPOLYGON (((970217.022 145643.332, 970227....\n",
              "1         4  ...  MULTIPOLYGON (((1029606.077 156073.814, 102957...\n",
              "2         3  ...  MULTIPOLYGON (((1021176.479 151374.797, 102100...\n",
              "3         1  ...  MULTIPOLYGON (((981219.056 188655.316, 980940....\n",
              "4         2  ...  MULTIPOLYGON (((1012821.806 229228.265, 101278...\n",
              "\n",
              "[5 rows x 5 columns]"
            ]
          },
          "metadata": {
            "tags": []
          },
          "execution_count": 14
        }
      ]
    },
    {
      "cell_type": "code",
      "metadata": {
        "colab": {
          "base_uri": "https://localhost:8080/",
          "height": 1000
        },
        "id": "JKcIRgqh46aF",
        "outputId": "de4d771e-3f0e-4721-d3d1-6e69fdceae7f"
      },
      "source": [
        "m = folium.Map(location=[40.70, -73.94], zoom_start=10, tiles='CartoDB positron')\n",
        "m"
      ],
      "execution_count": 17,
      "outputs": [
        {
          "output_type": "execute_result",
          "data": {
            "text/html": [
              "<div style=\"width:100%;\"><div style=\"position:relative;width:100%;height:0;padding-bottom:60%;\"><span style=\"color:#565656\">Make this Notebook Trusted to load map: File -> Trust Notebook</span><iframe src=\"about:blank\" style=\"position:absolute;width:100%;height:100%;left:0;top:0;border:none !important;\" data-html=%3C%21DOCTYPE%20html%3E%0A%3Chead%3E%20%20%20%20%0A%20%20%20%20%3Cmeta%20http-equiv%3D%22content-type%22%20content%3D%22text/html%3B%20charset%3DUTF-8%22%20/%3E%0A%20%20%20%20%3Cscript%3EL_PREFER_CANVAS%3Dfalse%3B%20L_NO_TOUCH%3Dfalse%3B%20L_DISABLE_3D%3Dfalse%3B%3C/script%3E%0A%20%20%20%20%3Cscript%20src%3D%22https%3A//cdn.jsdelivr.net/npm/leaflet%401.4.0/dist/leaflet.js%22%3E%3C/script%3E%0A%20%20%20%20%3Cscript%20src%3D%22https%3A//code.jquery.com/jquery-1.12.4.min.js%22%3E%3C/script%3E%0A%20%20%20%20%3Cscript%20src%3D%22https%3A//maxcdn.bootstrapcdn.com/bootstrap/3.2.0/js/bootstrap.min.js%22%3E%3C/script%3E%0A%20%20%20%20%3Cscript%20src%3D%22https%3A//cdnjs.cloudflare.com/ajax/libs/Leaflet.awesome-markers/2.0.2/leaflet.awesome-markers.js%22%3E%3C/script%3E%0A%20%20%20%20%3Clink%20rel%3D%22stylesheet%22%20href%3D%22https%3A//cdn.jsdelivr.net/npm/leaflet%401.4.0/dist/leaflet.css%22/%3E%0A%20%20%20%20%3Clink%20rel%3D%22stylesheet%22%20href%3D%22https%3A//maxcdn.bootstrapcdn.com/bootstrap/3.2.0/css/bootstrap.min.css%22/%3E%0A%20%20%20%20%3Clink%20rel%3D%22stylesheet%22%20href%3D%22https%3A//maxcdn.bootstrapcdn.com/bootstrap/3.2.0/css/bootstrap-theme.min.css%22/%3E%0A%20%20%20%20%3Clink%20rel%3D%22stylesheet%22%20href%3D%22https%3A//maxcdn.bootstrapcdn.com/font-awesome/4.6.3/css/font-awesome.min.css%22/%3E%0A%20%20%20%20%3Clink%20rel%3D%22stylesheet%22%20href%3D%22https%3A//cdnjs.cloudflare.com/ajax/libs/Leaflet.awesome-markers/2.0.2/leaflet.awesome-markers.css%22/%3E%0A%20%20%20%20%3Clink%20rel%3D%22stylesheet%22%20href%3D%22https%3A//rawcdn.githack.com/python-visualization/folium/master/folium/templates/leaflet.awesome.rotate.css%22/%3E%0A%20%20%20%20%3Cstyle%3Ehtml%2C%20body%20%7Bwidth%3A%20100%25%3Bheight%3A%20100%25%3Bmargin%3A%200%3Bpadding%3A%200%3B%7D%3C/style%3E%0A%20%20%20%20%3Cstyle%3E%23map%20%7Bposition%3Aabsolute%3Btop%3A0%3Bbottom%3A0%3Bright%3A0%3Bleft%3A0%3B%7D%3C/style%3E%0A%20%20%20%20%0A%20%20%20%20%3Cmeta%20name%3D%22viewport%22%20content%3D%22width%3Ddevice-width%2C%0A%20%20%20%20%20%20%20%20initial-scale%3D1.0%2C%20maximum-scale%3D1.0%2C%20user-scalable%3Dno%22%20/%3E%0A%20%20%20%20%3Cstyle%3E%23map_72dd66eb15f54eafb59b7bdeb7e4c6f1%20%7B%0A%20%20%20%20%20%20%20%20position%3A%20relative%3B%0A%20%20%20%20%20%20%20%20width%3A%20100.0%25%3B%0A%20%20%20%20%20%20%20%20height%3A%20100.0%25%3B%0A%20%20%20%20%20%20%20%20left%3A%200.0%25%3B%0A%20%20%20%20%20%20%20%20top%3A%200.0%25%3B%0A%20%20%20%20%20%20%20%20%7D%0A%20%20%20%20%3C/style%3E%0A%3C/head%3E%0A%3Cbody%3E%20%20%20%20%0A%20%20%20%20%0A%20%20%20%20%3Cdiv%20class%3D%22folium-map%22%20id%3D%22map_72dd66eb15f54eafb59b7bdeb7e4c6f1%22%20%3E%3C/div%3E%0A%3C/body%3E%0A%3Cscript%3E%20%20%20%20%0A%20%20%20%20%0A%20%20%20%20%0A%20%20%20%20%20%20%20%20var%20bounds%20%3D%20null%3B%0A%20%20%20%20%0A%0A%20%20%20%20var%20map_72dd66eb15f54eafb59b7bdeb7e4c6f1%20%3D%20L.map%28%0A%20%20%20%20%20%20%20%20%27map_72dd66eb15f54eafb59b7bdeb7e4c6f1%27%2C%20%7B%0A%20%20%20%20%20%20%20%20center%3A%20%5B40.7%2C%20-73.94%5D%2C%0A%20%20%20%20%20%20%20%20zoom%3A%2010%2C%0A%20%20%20%20%20%20%20%20maxBounds%3A%20bounds%2C%0A%20%20%20%20%20%20%20%20layers%3A%20%5B%5D%2C%0A%20%20%20%20%20%20%20%20worldCopyJump%3A%20false%2C%0A%20%20%20%20%20%20%20%20crs%3A%20L.CRS.EPSG3857%2C%0A%20%20%20%20%20%20%20%20zoomControl%3A%20true%2C%0A%20%20%20%20%20%20%20%20%7D%29%3B%0A%0A%0A%20%20%20%20%0A%20%20%20%20var%20tile_layer_f1cc148cc59a4097aa70bbf78b5310b5%20%3D%20L.tileLayer%28%0A%20%20%20%20%20%20%20%20%27https%3A//cartodb-basemaps-%7Bs%7D.global.ssl.fastly.net/light_all/%7Bz%7D/%7Bx%7D/%7By%7D.png%27%2C%0A%20%20%20%20%20%20%20%20%7B%0A%20%20%20%20%20%20%20%20%22attribution%22%3A%20null%2C%0A%20%20%20%20%20%20%20%20%22detectRetina%22%3A%20false%2C%0A%20%20%20%20%20%20%20%20%22maxNativeZoom%22%3A%2018%2C%0A%20%20%20%20%20%20%20%20%22maxZoom%22%3A%2018%2C%0A%20%20%20%20%20%20%20%20%22minZoom%22%3A%200%2C%0A%20%20%20%20%20%20%20%20%22noWrap%22%3A%20false%2C%0A%20%20%20%20%20%20%20%20%22opacity%22%3A%201%2C%0A%20%20%20%20%20%20%20%20%22subdomains%22%3A%20%22abc%22%2C%0A%20%20%20%20%20%20%20%20%22tms%22%3A%20false%0A%7D%29.addTo%28map_72dd66eb15f54eafb59b7bdeb7e4c6f1%29%3B%0A%3C/script%3E onload=\"this.contentDocument.open();this.contentDocument.write(    decodeURIComponent(this.getAttribute('data-html')));this.contentDocument.close();\" allowfullscreen webkitallowfullscreen mozallowfullscreen></iframe></div></div>"
            ],
            "text/plain": [
              "<folium.folium.Map at 0x7efe937c15d0>"
            ]
          },
          "metadata": {
            "tags": []
          },
          "execution_count": 17
        }
      ]
    }
  ]
}