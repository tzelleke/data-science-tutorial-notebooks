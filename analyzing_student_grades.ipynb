{
  "nbformat": 4,
  "nbformat_minor": 0,
  "metadata": {
    "colab": {
      "name": "analyzing-student-grades.ipynb",
      "provenance": [],
      "authorship_tag": "ABX9TyOcHpUqc/sSWkj78dUt92JL"
    },
    "kernelspec": {
      "name": "python3",
      "display_name": "Python 3"
    },
    "language_info": {
      "name": "python"
    }
  },
  "cells": [
    {
      "cell_type": "markdown",
      "metadata": {
        "id": "e_jkDKyTyVDA"
      },
      "source": [
        "# Analyzing student grades with pandas and seaborn\n",
        "\n",
        "In this tutorial we are going to analyze a dataset of student grades.\n",
        "\n",
        "The dataset was obtained as part of the study for using Data Mining to Predict Secondary School Student Performance by P.Cortez and A.Silva\n",
        "\n",
        "**Citation:**\n",
        "\n",
        "Using Data Mining To Predict Secondary School Student Alcohol Consumption.  \n",
        "Fabio Pagnotta, Hossain Mohammad Amran  \n",
        "Department of Computer Science,University of Camerino"
      ]
    },
    {
      "cell_type": "markdown",
      "metadata": {
        "id": "vc2NKqxYlB_c"
      },
      "source": [
        "## Importing data into pandas"
      ]
    },
    {
      "cell_type": "code",
      "metadata": {
        "colab": {
          "base_uri": "https://localhost:8080/"
        },
        "id": "6_F9Dk25lL4c",
        "outputId": "3f4d060e-40a6-4ce8-e4b0-23b2f7b07aad"
      },
      "source": [
        "from google.colab import drive\n",
        "drive.mount('/content/drive')\n",
        "\n",
        "filepath = '/content/drive/MyDrive/data-science-example-notebooks/student-mat.csv'"
      ],
      "execution_count": 1,
      "outputs": [
        {
          "output_type": "stream",
          "text": [
            "Drive already mounted at /content/drive; to attempt to forcibly remount, call drive.mount(\"/content/drive\", force_remount=True).\n"
          ],
          "name": "stdout"
        }
      ]
    },
    {
      "cell_type": "code",
      "metadata": {
        "id": "BOzudXSrsePn"
      },
      "source": [
        "import more_itertools as it\n",
        "import pandas as pd"
      ],
      "execution_count": 2,
      "outputs": []
    },
    {
      "cell_type": "markdown",
      "metadata": {
        "id": "Li9T9xhQjW5u"
      },
      "source": [
        "We are going to import data related to a math course.  \n",
        "The dataset also includes data related to a language course which we are omitting in this tutorial.\n",
        "\n",
        "Since the majority of columns contain categorical data we\n",
        "\n",
        "1.   specify the `dtype` as `CategoricalDType` for all columns of the dataframe,\n",
        "    \n",
        "2.   and convert the `dtype` for the few numerical columns afterwards.\n",
        "\n",
        "[learn more about categorical data in pandas](https://pandas.pydata.org/docs/user_guide/categorical.html#)\n"
      ]
    },
    {
      "cell_type": "code",
      "metadata": {
        "id": "48qI5XtNsgSB"
      },
      "source": [
        "df = pd.read_csv(filepath, sep=';', index_col=False, dtype='category').assign(\n",
        "    age=lambda df: pd.to_numeric(df['age']),\n",
        "    absences=lambda df: pd.to_numeric(df['absences']),\n",
        "    G1=lambda df: pd.to_numeric(df['G1']),\n",
        "    G2=lambda df: pd.to_numeric(df['G2']),\n",
        "    G3=lambda df: pd.to_numeric(df['G3'])\n",
        ")"
      ],
      "execution_count": 3,
      "outputs": []
    },
    {
      "cell_type": "markdown",
      "metadata": {
        "id": "3B2nc4A3lNHg"
      },
      "source": [
        "Let's get an overview of the categories that were inferred by pandas on import."
      ]
    },
    {
      "cell_type": "code",
      "metadata": {
        "colab": {
          "base_uri": "https://localhost:8080/"
        },
        "id": "usUszhdlk_v8",
        "outputId": "9ef93ec2-9f0f-4dc4-e455-6393dc94907d"
      },
      "source": [
        "(\n",
        "    df.dtypes[\n",
        "        df.dtypes.apply(isinstance, args=(pd.CategoricalDtype,))\n",
        "    ].map(lambda cat: cat.categories.tolist())\n",
        ")"
      ],
      "execution_count": 4,
      "outputs": [
        {
          "output_type": "execute_result",
          "data": {
            "text/plain": [
              "school                                           [GP, MS]\n",
              "sex                                                [F, M]\n",
              "address                                            [R, U]\n",
              "famsize                                        [GT3, LE3]\n",
              "Pstatus                                            [A, T]\n",
              "Medu                                      [0, 1, 2, 3, 4]\n",
              "Fedu                                      [0, 1, 2, 3, 4]\n",
              "Mjob          [at_home, health, other, services, teacher]\n",
              "Fjob          [at_home, health, other, services, teacher]\n",
              "reason                  [course, home, other, reputation]\n",
              "guardian                          [father, mother, other]\n",
              "traveltime                                   [1, 2, 3, 4]\n",
              "studytime                                    [1, 2, 3, 4]\n",
              "failures                                     [0, 1, 2, 3]\n",
              "schoolsup                                       [no, yes]\n",
              "famsup                                          [no, yes]\n",
              "paid                                            [no, yes]\n",
              "activities                                      [no, yes]\n",
              "nursery                                         [no, yes]\n",
              "higher                                          [no, yes]\n",
              "internet                                        [no, yes]\n",
              "romantic                                        [no, yes]\n",
              "famrel                                    [1, 2, 3, 4, 5]\n",
              "freetime                                  [1, 2, 3, 4, 5]\n",
              "goout                                     [1, 2, 3, 4, 5]\n",
              "Dalc                                      [1, 2, 3, 4, 5]\n",
              "Walc                                      [1, 2, 3, 4, 5]\n",
              "health                                    [1, 2, 3, 4, 5]\n",
              "dtype: object"
            ]
          },
          "metadata": {
            "tags": []
          },
          "execution_count": 4
        }
      ]
    },
    {
      "cell_type": "markdown",
      "metadata": {
        "id": "8VzgjY5Zqsuq"
      },
      "source": [
        "More detailed data description is available [here](https://docs.google.com/spreadsheets/d/1mDsF0aMNgODx7063l2mxV1_zP32fAe_P55SBmtG72G8/edit#gid=1914838783).\n",
        "\n",
        "Let's use this information to improve the labels on some of the categories."
      ]
    },
    {
      "cell_type": "code",
      "metadata": {
        "id": "0ZTD0-Kg0BbN"
      },
      "source": [
        "# create new CategoricalDType for those categories that are shared among several columns\n",
        "cat_edu = pd.CategoricalDtype(categories=['none', 'pri', 'mid', 'sec', 'higher'], ordered=True)\n",
        "cat_bad_good = pd.CategoricalDtype(categories=['very_bad', 'bad', 'avg', 'good', 'very_good'], ordered=True)\n",
        "cat_low_high = pd.CategoricalDtype(categories=['very_low', 'low', 'avg', 'high', 'very_high'], ordered=True)\n",
        "\n",
        "df = df.astype({\n",
        "    'Medu': cat_edu,\n",
        "    'Fedu': cat_edu,\n",
        "    'famrel': cat_bad_good,\n",
        "    'health': cat_bad_good,\n",
        "    'goout': cat_low_high,\n",
        "    'freetime': cat_low_high,\n",
        "    'Dalc': cat_low_high,\n",
        "    'Walc': cat_low_high\n",
        "}).assign(\n",
        "    # rename categories on the fly for columns\n",
        "    traveltime=lambda df: df.traveltime.cat.rename_categories(['>15m', '15m-30m', '30m-1h', '>1h']),\n",
        "    studytime=lambda df: df.traveltime.cat.rename_categories(['>2h', '2h-5h', '5h-10h', '>10h'])\n",
        ")"
      ],
      "execution_count": 5,
      "outputs": []
    },
    {
      "cell_type": "code",
      "metadata": {
        "colab": {
          "base_uri": "https://localhost:8080/"
        },
        "id": "GZVFdGcN7Htk",
        "outputId": "67a9cc85-5a59-4a3d-c64a-ec5262b434db"
      },
      "source": [
        "(\n",
        "    df.dtypes[\n",
        "        df.dtypes.apply(isinstance, args=(pd.CategoricalDtype,))\n",
        "    ].map(lambda cat: cat.categories.tolist())\n",
        ")"
      ],
      "execution_count": 6,
      "outputs": [
        {
          "output_type": "execute_result",
          "data": {
            "text/plain": [
              "school                                           [GP, MS]\n",
              "sex                                                [F, M]\n",
              "address                                            [R, U]\n",
              "famsize                                        [GT3, LE3]\n",
              "Pstatus                                            [A, T]\n",
              "Medu                        [none, pri, mid, sec, higher]\n",
              "Fedu                        [none, pri, mid, sec, higher]\n",
              "Mjob          [at_home, health, other, services, teacher]\n",
              "Fjob          [at_home, health, other, services, teacher]\n",
              "reason                  [course, home, other, reputation]\n",
              "guardian                          [father, mother, other]\n",
              "traveltime                   [>15m, 15m-30m, 30m-1h, >1h]\n",
              "studytime                      [>2h, 2h-5h, 5h-10h, >10h]\n",
              "failures                                     [0, 1, 2, 3]\n",
              "schoolsup                                       [no, yes]\n",
              "famsup                                          [no, yes]\n",
              "paid                                            [no, yes]\n",
              "activities                                      [no, yes]\n",
              "nursery                                         [no, yes]\n",
              "higher                                          [no, yes]\n",
              "internet                                        [no, yes]\n",
              "romantic                                        [no, yes]\n",
              "famrel              [very_bad, bad, avg, good, very_good]\n",
              "freetime            [very_low, low, avg, high, very_high]\n",
              "goout               [very_low, low, avg, high, very_high]\n",
              "Dalc                [very_low, low, avg, high, very_high]\n",
              "Walc                [very_low, low, avg, high, very_high]\n",
              "health              [very_bad, bad, avg, good, very_good]\n",
              "dtype: object"
            ]
          },
          "metadata": {
            "tags": []
          },
          "execution_count": 6
        }
      ]
    },
    {
      "cell_type": "markdown",
      "metadata": {
        "id": "jPzwUjmxpybs"
      },
      "source": [
        "## Simple exploratory data analysis through visualization"
      ]
    },
    {
      "cell_type": "code",
      "metadata": {
        "id": "19eYNRa1b2Ra"
      },
      "source": [
        "import matplotlib.pyplot as plt\n",
        "import seaborn as sns\n",
        "\n",
        "sns.set_theme()"
      ],
      "execution_count": 7,
      "outputs": []
    },
    {
      "cell_type": "code",
      "metadata": {
        "colab": {
          "base_uri": "https://localhost:8080/",
          "height": 285
        },
        "id": "87vi9A2AxV1I",
        "outputId": "bfe477cb-0ad9-4f83-b4c0-bbc7820260c3"
      },
      "source": [
        "with sns.axes_style(\"whitegrid\"):\n",
        "    sns.countplot(x='age', data=df, palette='rocket')"
      ],
      "execution_count": 8,
      "outputs": [
        {
          "output_type": "display_data",
          "data": {
            "image/png": "[encoded data removed]",
            "text/plain": [
              "<Figure size 432x288 with 1 Axes>"
            ]
          },
          "metadata": {
            "tags": []
          }
        }
      ]
    },
    {
      "cell_type": "code",
      "metadata": {
        "colab": {
          "base_uri": "https://localhost:8080/",
          "height": 286
        },
        "id": "3wrnm7V-b4QC",
        "outputId": "7bd00402-5392-4897-cc47-fabfd843d6c1"
      },
      "source": [
        "with sns.axes_style(\"whitegrid\"):\n",
        "    fig, axs = plt.subplots(1, 3, sharey=True, figsize=(16, 4))\n",
        "    \n",
        "    sns.countplot(x='Mjob', data=df, ax=axs[0])\n",
        "    sns.countplot(x='Fjob', data=df, ax=axs[1])\n",
        "    sns.countplot(x='reason', data=df, ax=axs[2])"
      ],
      "execution_count": 9,
      "outputs": [
        {
          "output_type": "display_data",
          "data": {
            "image/png": "[encoded data removed]",
            "text/plain": [
              "<Figure size 1152x288 with 3 Axes>"
            ]
          },
          "metadata": {
            "tags": []
          }
        }
      ]
    }
  ]
}